{
 "cells": [
  {
   "cell_type": "markdown",
   "metadata": {},
   "source": [
    "# Case Study: Single-Employer Plan De-Risking Activities Prediction"
   ]
  },
  {
   "cell_type": "markdown",
   "metadata": {},
   "source": [
    "Import Python packages"
   ]
  },
  {
   "cell_type": "code",
   "execution_count": 1,
   "metadata": {},
   "outputs": [],
   "source": [
    "import pandas as pd\n",
    "import numpy as np\n",
    "import matplotlib.pyplot as plt\n",
    "from sklearn import preprocessing\n",
    "from sklearn.model_selection import train_test_split\n",
    "from sklearn.linear_model import LogisticRegression\n",
    "from sklearn.ensemble import RandomForestClassifier\n",
    "from sklearn.tree import DecisionTreeClassifier\n",
    "from sklearn.ensemble import GradientBoostingClassifier\n",
    "from sklearn.neural_network import MLPClassifier\n",
    "from sklearn.metrics import classification_report, confusion_matrix\n",
    "from sklearn.metrics import mean_squared_error, r2_score, precision_score, recall_score, auc, roc_curve, roc_auc_score"
   ]
  },
  {
   "cell_type": "code",
   "execution_count": 2,
   "metadata": {},
   "outputs": [
    {
     "data": {
      "text/html": [
       "<div>\n",
       "<style scoped>\n",
       "    .dataframe tbody tr th:only-of-type {\n",
       "        vertical-align: middle;\n",
       "    }\n",
       "\n",
       "    .dataframe tbody tr th {\n",
       "        vertical-align: top;\n",
       "    }\n",
       "\n",
       "    .dataframe thead th {\n",
       "        text-align: right;\n",
       "    }\n",
       "</style>\n",
       "<table border=\"1\" class=\"dataframe\">\n",
       "  <thead>\n",
       "    <tr style=\"text-align: right;\">\n",
       "      <th></th>\n",
       "      <th>current_TOT_PARTCP_BOY_CNT</th>\n",
       "      <th>current_SB_PR_YR_FNDNG_PRCNT</th>\n",
       "      <th>current_TOT_ASSETS_BOY_AMT</th>\n",
       "      <th>current_BNFTS_PAYABLE_BOY_AMT</th>\n",
       "      <th>current_OPRTNG_PAYABLE_BOY_AMT</th>\n",
       "      <th>current_ACQUIS_INDBT_BOY_AMT</th>\n",
       "      <th>current_OTHER_LIAB_BOY_AMT</th>\n",
       "      <th>current_TOT_LIABILITIES_BOY_AMT</th>\n",
       "      <th>current_NET_ASSETS_BOY_AMT</th>\n",
       "      <th>TOT_ASSETS_EOY_AMT</th>\n",
       "      <th>...</th>\n",
       "      <th>current_corp debt</th>\n",
       "      <th>current_public_equity</th>\n",
       "      <th>current_real_estate</th>\n",
       "      <th>current_loans</th>\n",
       "      <th>current_employer inv</th>\n",
       "      <th>current_building</th>\n",
       "      <th>current_partnership</th>\n",
       "      <th>current_others</th>\n",
       "      <th>fr</th>\n",
       "      <th>risk_transfer</th>\n",
       "    </tr>\n",
       "  </thead>\n",
       "  <tbody>\n",
       "    <tr>\n",
       "      <th>0</th>\n",
       "      <td>3588.0</td>\n",
       "      <td>0.0</td>\n",
       "      <td>75068849.0</td>\n",
       "      <td>0.000000e+00</td>\n",
       "      <td>0.00000</td>\n",
       "      <td>1.0</td>\n",
       "      <td>0.0</td>\n",
       "      <td>1203000.0</td>\n",
       "      <td>73865849.0</td>\n",
       "      <td>50750104.0</td>\n",
       "      <td>...</td>\n",
       "      <td>0.0</td>\n",
       "      <td>0.000000</td>\n",
       "      <td>0.0</td>\n",
       "      <td>0.0</td>\n",
       "      <td>0.999911</td>\n",
       "      <td>0.0</td>\n",
       "      <td>0.000000</td>\n",
       "      <td>0.000000</td>\n",
       "      <td>62.401371</td>\n",
       "      <td>0</td>\n",
       "    </tr>\n",
       "    <tr>\n",
       "      <th>1</th>\n",
       "      <td>3971.0</td>\n",
       "      <td>0.0</td>\n",
       "      <td>50750104.0</td>\n",
       "      <td>0.000000e+00</td>\n",
       "      <td>0.00000</td>\n",
       "      <td>1.0</td>\n",
       "      <td>0.0</td>\n",
       "      <td>1039800.0</td>\n",
       "      <td>49710304.0</td>\n",
       "      <td>68996396.0</td>\n",
       "      <td>...</td>\n",
       "      <td>0.0</td>\n",
       "      <td>0.000000</td>\n",
       "      <td>0.0</td>\n",
       "      <td>0.0</td>\n",
       "      <td>0.999896</td>\n",
       "      <td>0.0</td>\n",
       "      <td>0.000000</td>\n",
       "      <td>0.000000</td>\n",
       "      <td>48.807563</td>\n",
       "      <td>0</td>\n",
       "    </tr>\n",
       "    <tr>\n",
       "      <th>2</th>\n",
       "      <td>55888.0</td>\n",
       "      <td>0.0</td>\n",
       "      <td>173477656.0</td>\n",
       "      <td>1.759378e-07</td>\n",
       "      <td>0.13479</td>\n",
       "      <td>0.0</td>\n",
       "      <td>463067.0</td>\n",
       "      <td>4306545.0</td>\n",
       "      <td>169171111.0</td>\n",
       "      <td>0.0</td>\n",
       "      <td>...</td>\n",
       "      <td>0.0</td>\n",
       "      <td>0.102711</td>\n",
       "      <td>0.0</td>\n",
       "      <td>0.0</td>\n",
       "      <td>0.000000</td>\n",
       "      <td>0.0</td>\n",
       "      <td>0.241188</td>\n",
       "      <td>0.610659</td>\n",
       "      <td>40.282327</td>\n",
       "      <td>1</td>\n",
       "    </tr>\n",
       "    <tr>\n",
       "      <th>3</th>\n",
       "      <td>2400.0</td>\n",
       "      <td>0.0</td>\n",
       "      <td>11055.0</td>\n",
       "      <td>0.000000e+00</td>\n",
       "      <td>0.00000</td>\n",
       "      <td>0.0</td>\n",
       "      <td>10720.0</td>\n",
       "      <td>10720.0</td>\n",
       "      <td>335.0</td>\n",
       "      <td>11055.0</td>\n",
       "      <td>...</td>\n",
       "      <td>0.0</td>\n",
       "      <td>0.000000</td>\n",
       "      <td>0.0</td>\n",
       "      <td>0.0</td>\n",
       "      <td>0.000000</td>\n",
       "      <td>0.0</td>\n",
       "      <td>0.000000</td>\n",
       "      <td>0.000000</td>\n",
       "      <td>1.031250</td>\n",
       "      <td>0</td>\n",
       "    </tr>\n",
       "    <tr>\n",
       "      <th>4</th>\n",
       "      <td>1561.0</td>\n",
       "      <td>0.0</td>\n",
       "      <td>5599033.0</td>\n",
       "      <td>7.091626e-07</td>\n",
       "      <td>0.01326</td>\n",
       "      <td>0.0</td>\n",
       "      <td>0.0</td>\n",
       "      <td>1391416.0</td>\n",
       "      <td>4207617.0</td>\n",
       "      <td>4123185.0</td>\n",
       "      <td>...</td>\n",
       "      <td>0.0</td>\n",
       "      <td>0.000000</td>\n",
       "      <td>0.0</td>\n",
       "      <td>0.0</td>\n",
       "      <td>0.000000</td>\n",
       "      <td>0.0</td>\n",
       "      <td>0.000000</td>\n",
       "      <td>0.000000</td>\n",
       "      <td>4.023982</td>\n",
       "      <td>0</td>\n",
       "    </tr>\n",
       "  </tbody>\n",
       "</table>\n",
       "<p>5 rows × 386 columns</p>\n",
       "</div>"
      ],
      "text/plain": [
       "   current_TOT_PARTCP_BOY_CNT  current_SB_PR_YR_FNDNG_PRCNT  \\\n",
       "0                      3588.0                           0.0   \n",
       "1                      3971.0                           0.0   \n",
       "2                     55888.0                           0.0   \n",
       "3                      2400.0                           0.0   \n",
       "4                      1561.0                           0.0   \n",
       "\n",
       "   current_TOT_ASSETS_BOY_AMT  current_BNFTS_PAYABLE_BOY_AMT  \\\n",
       "0                  75068849.0                   0.000000e+00   \n",
       "1                  50750104.0                   0.000000e+00   \n",
       "2                 173477656.0                   1.759378e-07   \n",
       "3                     11055.0                   0.000000e+00   \n",
       "4                   5599033.0                   7.091626e-07   \n",
       "\n",
       "   current_OPRTNG_PAYABLE_BOY_AMT  current_ACQUIS_INDBT_BOY_AMT  \\\n",
       "0                         0.00000                           1.0   \n",
       "1                         0.00000                           1.0   \n",
       "2                         0.13479                           0.0   \n",
       "3                         0.00000                           0.0   \n",
       "4                         0.01326                           0.0   \n",
       "\n",
       "   current_OTHER_LIAB_BOY_AMT  current_TOT_LIABILITIES_BOY_AMT  \\\n",
       "0                         0.0                        1203000.0   \n",
       "1                         0.0                        1039800.0   \n",
       "2                    463067.0                        4306545.0   \n",
       "3                     10720.0                          10720.0   \n",
       "4                         0.0                        1391416.0   \n",
       "\n",
       "   current_NET_ASSETS_BOY_AMT  TOT_ASSETS_EOY_AMT  ...  current_corp debt  \\\n",
       "0                  73865849.0          50750104.0  ...                0.0   \n",
       "1                  49710304.0          68996396.0  ...                0.0   \n",
       "2                 169171111.0                 0.0  ...                0.0   \n",
       "3                       335.0             11055.0  ...                0.0   \n",
       "4                   4207617.0           4123185.0  ...                0.0   \n",
       "\n",
       "   current_public_equity  current_real_estate  current_loans  \\\n",
       "0               0.000000                  0.0            0.0   \n",
       "1               0.000000                  0.0            0.0   \n",
       "2               0.102711                  0.0            0.0   \n",
       "3               0.000000                  0.0            0.0   \n",
       "4               0.000000                  0.0            0.0   \n",
       "\n",
       "   current_employer inv  current_building  current_partnership  \\\n",
       "0              0.999911               0.0             0.000000   \n",
       "1              0.999896               0.0             0.000000   \n",
       "2              0.000000               0.0             0.241188   \n",
       "3              0.000000               0.0             0.000000   \n",
       "4              0.000000               0.0             0.000000   \n",
       "\n",
       "   current_others         fr  risk_transfer  \n",
       "0        0.000000  62.401371              0  \n",
       "1        0.000000  48.807563              0  \n",
       "2        0.610659  40.282327              1  \n",
       "3        0.000000   1.031250              0  \n",
       "4        0.000000   4.023982              0  \n",
       "\n",
       "[5 rows x 386 columns]"
      ]
     },
     "execution_count": 2,
     "metadata": {},
     "output_type": "execute_result"
    }
   ],
   "source": [
    "# Load data\n",
    "derisking_data = pd.read_csv('C:/dsge/form/data/derisking_clean_data.csv') #change the directory to the location of your data file\n",
    "derisking_data.head()"
   ]
  },
  {
   "cell_type": "code",
   "execution_count": 3,
   "metadata": {},
   "outputs": [],
   "source": [
    "x_cols = list(derisking_data.columns)\n",
    "x_cols.remove('risk_transfer')\n",
    "y_col = 'risk_transfer'\n",
    "# sum(derisking_data[y_col])"
   ]
  },
  {
   "cell_type": "markdown",
   "metadata": {},
   "source": [
    "## Model Training and Validation "
   ]
  },
  {
   "cell_type": "code",
   "execution_count": 4,
   "metadata": {},
   "outputs": [],
   "source": [
    "#Split data into training and validation datasets\n",
    "train, test = train_test_split(derisking_data, test_size=0.2, random_state=123)"
   ]
  },
  {
   "cell_type": "markdown",
   "metadata": {},
   "source": [
    "### Logistic Regression "
   ]
  },
  {
   "cell_type": "code",
   "execution_count": 5,
   "metadata": {},
   "outputs": [
    {
     "data": {
      "image/png": "[encoded data removed]",
      "text/plain": [
       "<Figure size 576x576 with 1 Axes>"
      ]
     },
     "metadata": {
      "needs_background": "light"
     },
     "output_type": "display_data"
    },
    {
     "name": "stdout",
     "output_type": "stream",
     "text": [
      "precision:  0.8235294117647058\n",
      "recall:  0.4416403785488959\n",
      "f-measure:  0.5749486652977412\n",
      "auc:  0.84884085030449\n"
     ]
    },
    {
     "data": {
      "text/plain": [
       "Text(0, 0.5, 'FPR')"
      ]
     },
     "execution_count": 5,
     "metadata": {},
     "output_type": "execute_result"
    },
    {
     "data": {
      "image/png": "[encoded data removed]",
      "text/plain": [
       "<Figure size 432x288 with 1 Axes>"
      ]
     },
     "metadata": {
      "needs_background": "light"
     },
     "output_type": "display_data"
    }
   ],
   "source": [
    "#model fitting\n",
    "logistic_model = LogisticRegression(penalty='l2', tol=1e-7, C=1.0, fit_intercept=True, solver='lbfgs', max_iter=10000, random_state=123).fit(train[x_cols], train[y_col])\n",
    "\n",
    "y_validation = logistic_model.predict(test[x_cols])\n",
    "y_validation_score= logistic_model.predict_proba(test[x_cols])[:,1]\n",
    "\n",
    "#model validation\n",
    "fpr, tpr, thresholds = roc_curve(test[y_col], y_validation_score, pos_label=1)\n",
    "precision = precision_score(test[y_col], y_validation, average='binary')\n",
    "recall = recall_score(test[y_col], y_validation, average='binary')\n",
    "f_measure = 2 * precision * recall / (precision + recall)\n",
    "auc = roc_auc_score(test[y_col], y_validation_score)\n",
    "\n",
    "#confusion matrix\n",
    "cm = confusion_matrix(test[y_col], logistic_model.predict(test[x_cols]))\n",
    "fig, ax = plt.subplots(figsize=(8, 8))\n",
    "ax.imshow(cm)\n",
    "ax.grid(False)\n",
    "ax.xaxis.set(ticks=(0, 1), ticklabels=('Predicted 0s', 'Predicted 1s'))\n",
    "ax.yaxis.set(ticks=(0, 1), ticklabels=('Actual 0s', 'Actual 1s'))\n",
    "ax.set_ylim(1.5, -0.5)\n",
    "for i in range(2):\n",
    "    for j in range(2):\n",
    "        ax.text(j, i, cm[i, j], ha='center', va='center', color='white')\n",
    "plt.show()\n",
    "\n",
    "print(\"precision: \", precision)\n",
    "print(\"recall: \", recall)\n",
    "print(\"f-measure: \", f_measure)\n",
    "print(\"auc: \", auc)\n",
    "\n",
    "#ROC\n",
    "plt.plot(fpr, tpr)\n",
    "plt.title(\"Logistic Regression ROC: AUC = 84.8%\")\n",
    "plt.xlabel(\"TPR\")\n",
    "plt.ylabel(\"FPR\")"
   ]
  },
  {
   "cell_type": "markdown",
   "metadata": {},
   "source": [
    "### Random Forest"
   ]
  },
  {
   "cell_type": "code",
   "execution_count": 10,
   "metadata": {},
   "outputs": [
    {
     "data": {
      "image/png": "[encoded data removed]",
      "text/plain": [
       "<Figure size 576x576 with 1 Axes>"
      ]
     },
     "metadata": {
      "needs_background": "light"
     },
     "output_type": "display_data"
    },
    {
     "name": "stdout",
     "output_type": "stream",
     "text": [
      "precision:  0.984\n",
      "recall:  0.38801261829652994\n",
      "f-measure:  0.5565610859728507\n",
      "auc:  0.8559598350762789\n"
     ]
    },
    {
     "data": {
      "text/plain": [
       "Text(0, 0.5, 'FPR')"
      ]
     },
     "execution_count": 10,
     "metadata": {},
     "output_type": "execute_result"
    },
    {
     "data": {
      "image/png": "[encoded data removed]",
      "text/plain": [
       "<Figure size 432x288 with 1 Axes>"
      ]
     },
     "metadata": {
      "needs_background": "light"
     },
     "output_type": "display_data"
    }
   ],
   "source": [
    "#model fitting\n",
    "model = RandomForestClassifier(n_estimators=500, max_depth=25, random_state = 123, criterion = 'gini', n_jobs = 5).fit(train[x_cols], train[y_col])\n",
    "\n",
    "y_validation = model.predict(test[x_cols])\n",
    "y_validation_score= model.predict_proba(test[x_cols])[:,1]\n",
    "\n",
    "#model validation\n",
    "fpr, tpr, thresholds = roc_curve(test[y_col], y_validation_score, pos_label=1)\n",
    "precision = precision_score(test[y_col], y_validation, average='binary')\n",
    "recall = recall_score(test[y_col], y_validation, average='binary')\n",
    "f_measure = 2 * precision * recall / (precision + recall)\n",
    "auc = roc_auc_score(test[y_col], y_validation_score)\n",
    "\n",
    "#confusion matrix\n",
    "cm = confusion_matrix(test[y_col], model.predict(test[x_cols]))\n",
    "fig, ax = plt.subplots(figsize=(8, 8))\n",
    "ax.imshow(cm)\n",
    "ax.grid(False)\n",
    "ax.xaxis.set(ticks=(0, 1), ticklabels=('Predicted 0s', 'Predicted 1s'))\n",
    "ax.yaxis.set(ticks=(0, 1), ticklabels=('Actual 0s', 'Actual 1s'))\n",
    "ax.set_ylim(1.5, -0.5)\n",
    "for i in range(2):\n",
    "    for j in range(2):\n",
    "        ax.text(j, i, cm[i, j], ha='center', va='center', color='white')\n",
    "plt.show()\n",
    "\n",
    "print(\"precision: \", precision)\n",
    "print(\"recall: \", recall)\n",
    "print(\"f-measure: \", f_measure)\n",
    "print(\"auc: \", auc)\n",
    "\n",
    "#ROC\n",
    "plt.plot(fpr, tpr)\n",
    "plt.title(\"Random Forest ROC: AUC = 85.6%\")\n",
    "plt.xlabel(\"TPR\")\n",
    "plt.ylabel(\"FPR\")"
   ]
  },
  {
   "cell_type": "markdown",
   "metadata": {},
   "source": [
    "### CART"
   ]
  },
  {
   "cell_type": "code",
   "execution_count": 11,
   "metadata": {},
   "outputs": [
    {
     "data": {
      "image/png": "[encoded data removed]",
      "text/plain": [
       "<Figure size 576x576 with 1 Axes>"
      ]
     },
     "metadata": {
      "needs_background": "light"
     },
     "output_type": "display_data"
    },
    {
     "name": "stdout",
     "output_type": "stream",
     "text": [
      "precision:  0.7128712871287128\n",
      "recall:  0.45425867507886436\n",
      "f-measure:  0.5549132947976878\n",
      "auc:  0.7774578816139297\n"
     ]
    },
    {
     "data": {
      "text/plain": [
       "Text(0, 0.5, 'FPR')"
      ]
     },
     "execution_count": 11,
     "metadata": {},
     "output_type": "execute_result"
    },
    {
     "data": {
      "image/png": "[encoded data removed]",
      "text/plain": [
       "<Figure size 432x288 with 1 Axes>"
      ]
     },
     "metadata": {
      "needs_background": "light"
     },
     "output_type": "display_data"
    }
   ],
   "source": [
    "#model fitting\n",
    "model = DecisionTreeClassifier(max_depth=20, random_state = 123, criterion = 'gini').fit(train[x_cols], train[y_col])\n",
    "\n",
    "y_validation = model.predict(test[x_cols])\n",
    "y_validation_score= model.predict_proba(test[x_cols])[:,1]\n",
    "\n",
    "#model validation\n",
    "fpr, tpr, thresholds = roc_curve(test[y_col], y_validation_score, pos_label=1)\n",
    "precision = precision_score(test[y_col], y_validation, average='binary')\n",
    "recall = recall_score(test[y_col], y_validation, average='binary')\n",
    "f_measure = 2 * precision * recall / (precision + recall)\n",
    "auc = roc_auc_score(test[y_col], y_validation_score)\n",
    "\n",
    "#confusion matrix\n",
    "cm = confusion_matrix(test[y_col], model.predict(test[x_cols]))\n",
    "fig, ax = plt.subplots(figsize=(8, 8))\n",
    "ax.imshow(cm)\n",
    "ax.grid(False)\n",
    "ax.xaxis.set(ticks=(0, 1), ticklabels=('Predicted 0s', 'Predicted 1s'))\n",
    "ax.yaxis.set(ticks=(0, 1), ticklabels=('Actual 0s', 'Actual 1s'))\n",
    "ax.set_ylim(1.5, -0.5)\n",
    "for i in range(2):\n",
    "    for j in range(2):\n",
    "        ax.text(j, i, cm[i, j], ha='center', va='center', color='white')\n",
    "plt.show()\n",
    "\n",
    "print(\"precision: \", precision)\n",
    "print(\"recall: \", recall)\n",
    "print(\"f-measure: \", f_measure)\n",
    "print(\"auc: \", auc)\n",
    "\n",
    "#ROC\n",
    "plt.plot(fpr, tpr)\n",
    "plt.title(\"CART ROC: AUC = 77.8%\")\n",
    "plt.xlabel(\"TPR\")\n",
    "plt.ylabel(\"FPR\")"
   ]
  },
  {
   "cell_type": "code",
   "execution_count": 12,
   "metadata": {},
   "outputs": [
    {
     "data": {
      "text/plain": [
       "Text(0, 0.5, 'FPR')"
      ]
     },
     "execution_count": 12,
     "metadata": {},
     "output_type": "execute_result"
    },
    {
     "data": {
      "image/png": "[encoded data removed]",
      "text/plain": [
       "<Figure size 432x288 with 1 Axes>"
      ]
     },
     "metadata": {
      "needs_background": "light"
     },
     "output_type": "display_data"
    }
   ],
   "source": [
    "#Draw the ROC of random guessing\n",
    "fpr = np.linspace(0,1.0,101)\n",
    "tpr = np.linspace(0,1.0,101)\n",
    "plt.plot(fpr, tpr)\n",
    "plt.title(\"Random Guess ROC: AUC = 50%\")\n",
    "plt.xlabel(\"TPR\")\n",
    "plt.ylabel(\"FPR\")"
   ]
  },
  {
   "cell_type": "markdown",
   "metadata": {},
   "source": [
    "### GBM "
   ]
  },
  {
   "cell_type": "code",
   "execution_count": 14,
   "metadata": {},
   "outputs": [
    {
     "data": {
      "image/png": "[encoded data removed]",
      "text/plain": [
       "<Figure size 576x576 with 1 Axes>"
      ]
     },
     "metadata": {
      "needs_background": "light"
     },
     "output_type": "display_data"
    },
    {
     "name": "stdout",
     "output_type": "stream",
     "text": [
      "precision:  0.9019607843137255\n",
      "recall:  0.4353312302839117\n",
      "f-measure:  0.5872340425531914\n",
      "auc:  0.8778158839218446\n"
     ]
    },
    {
     "data": {
      "text/plain": [
       "Text(0, 0.5, 'FPR')"
      ]
     },
     "execution_count": 14,
     "metadata": {},
     "output_type": "execute_result"
    },
    {
     "data": {
      "image/png": "[encoded data removed]",
      "text/plain": [
       "<Figure size 432x288 with 1 Axes>"
      ]
     },
     "metadata": {
      "needs_background": "light"
     },
     "output_type": "display_data"
    }
   ],
   "source": [
    "#model fitting\n",
    "model = GradientBoostingClassifier(loss='deviance', n_estimators=500, max_depth=20, tol=1e-6, random_state = 123, learning_rate=0.01, criterion = 'friedman_mse').fit(train[x_cols], train[y_col])\n",
    "\n",
    "y_validation = model.predict(test[x_cols])\n",
    "y_validation_score= model.predict_proba(test[x_cols])[:,1]\n",
    "\n",
    "#model validation\n",
    "fpr, tpr, thresholds = roc_curve(test[y_col], y_validation_score, pos_label=1)\n",
    "precision = precision_score(test[y_col], y_validation, average='binary')\n",
    "recall = recall_score(test[y_col], y_validation, average='binary')\n",
    "f_measure = 2 * precision * recall / (precision + recall)\n",
    "auc = roc_auc_score(test[y_col], y_validation_score)\n",
    "\n",
    "#confusion matrix\n",
    "cm = confusion_matrix(test[y_col], model.predict(test[x_cols]))\n",
    "fig, ax = plt.subplots(figsize=(8, 8))\n",
    "ax.imshow(cm)\n",
    "ax.grid(False)\n",
    "ax.xaxis.set(ticks=(0, 1), ticklabels=('Predicted 0s', 'Predicted 1s'))\n",
    "ax.yaxis.set(ticks=(0, 1), ticklabels=('Actual 0s', 'Actual 1s'))\n",
    "ax.set_ylim(1.5, -0.5)\n",
    "for i in range(2):\n",
    "    for j in range(2):\n",
    "        ax.text(j, i, cm[i, j], ha='center', va='center', color='white')\n",
    "plt.show()\n",
    "\n",
    "print(\"precision: \", precision)\n",
    "print(\"recall: \", recall)\n",
    "print(\"f-measure: \", f_measure)\n",
    "print(\"auc: \", auc)\n",
    "\n",
    "#ROC\n",
    "plt.plot(fpr, tpr)\n",
    "plt.title(\"GBM ROC: AUC = 87.8%\")\n",
    "plt.xlabel(\"TPR\")\n",
    "plt.ylabel(\"FPR\")"
   ]
  },
  {
   "cell_type": "markdown",
   "metadata": {},
   "source": [
    "### ANN "
   ]
  },
  {
   "cell_type": "code",
   "execution_count": 13,
   "metadata": {},
   "outputs": [
    {
     "data": {
      "image/png": "[encoded data removed]",
      "text/plain": [
       "<Figure size 576x576 with 1 Axes>"
      ]
     },
     "metadata": {
      "needs_background": "light"
     },
     "output_type": "display_data"
    },
    {
     "name": "stdout",
     "output_type": "stream",
     "text": [
      "precision:  0.903448275862069\n",
      "recall:  0.41324921135646686\n",
      "f-measure:  0.5670995670995671\n",
      "auc:  0.836495678222842\n"
     ]
    },
    {
     "data": {
      "text/plain": [
       "Text(0, 0.5, 'FPR')"
      ]
     },
     "execution_count": 13,
     "metadata": {},
     "output_type": "execute_result"
    },
    {
     "data": {
      "image/png": "[encoded data removed]",
      "text/plain": [
       "<Figure size 432x288 with 1 Axes>"
      ]
     },
     "metadata": {
      "needs_background": "light"
     },
     "output_type": "display_data"
    }
   ],
   "source": [
    "#model fitting\n",
    "model = MLPClassifier(hidden_layer_sizes=(100,25), activation='tanh',\n",
    "                                 solver='adam', alpha=0.0001, batch_size=1000,\n",
    "                                 learning_rate='adaptive', learning_rate_init=0.1,\n",
    "                                 max_iter=1000000, shuffle=True, random_state=123,\n",
    "                                 tol=1e-7, verbose=False, warm_start=False, momentum=0.9,\n",
    "                                 nesterovs_momentum=True, early_stopping=False,\n",
    "                                 validation_fraction=0.1, beta_1=0.9, beta_2=0.999, epsilon=1e-08,\n",
    "                                 n_iter_no_change=10, max_fun=15000).fit(train[x_cols], train[y_col])\n",
    "\n",
    "y_validation = model.predict(test[x_cols])\n",
    "y_validation_score= model.predict_proba(test[x_cols])[:,1]\n",
    "\n",
    "#model validation\n",
    "fpr, tpr, thresholds = roc_curve(test[y_col], y_validation_score, pos_label=1)\n",
    "precision = precision_score(test[y_col], y_validation, average='binary')\n",
    "recall = recall_score(test[y_col], y_validation, average='binary')\n",
    "f_measure = 2 * precision * recall / (precision + recall)\n",
    "auc = roc_auc_score(test[y_col], y_validation_score)\n",
    "\n",
    "#confusion matrix\n",
    "cm = confusion_matrix(test[y_col], model.predict(test[x_cols]))\n",
    "fig, ax = plt.subplots(figsize=(8, 8))\n",
    "ax.imshow(cm)\n",
    "ax.grid(False)\n",
    "ax.xaxis.set(ticks=(0, 1), ticklabels=('Predicted 0s', 'Predicted 1s'))\n",
    "ax.yaxis.set(ticks=(0, 1), ticklabels=('Actual 0s', 'Actual 1s'))\n",
    "ax.set_ylim(1.5, -0.5)\n",
    "for i in range(2):\n",
    "    for j in range(2):\n",
    "        ax.text(j, i, cm[i, j], ha='center', va='center', color='white')\n",
    "plt.show()\n",
    "\n",
    "print(\"precision: \", precision)\n",
    "print(\"recall: \", recall)\n",
    "print(\"f-measure: \", f_measure)\n",
    "print(\"auc: \", auc)\n",
    "\n",
    "#ROC\n",
    "plt.plot(fpr, tpr)\n",
    "plt.title(\"ANN ROC: AUC = 83.6%\")\n",
    "plt.xlabel(\"TPR\")\n",
    "plt.ylabel(\"FPR\")\n"
   ]
  }
 ],
 "metadata": {
  "kernelspec": {
   "display_name": "Python 3",
   "language": "python",
   "name": "python3"
  },
  "language_info": {
   "codemirror_mode": {
    "name": "ipython",
    "version": 3
   },
   "file_extension": ".py",
   "mimetype": "text/x-python",
   "name": "python",
   "nbconvert_exporter": "python",
   "pygments_lexer": "ipython3",
   "version": "3.7.3"
  }
 },
 "nbformat": 4,
 "nbformat_minor": 2
}
